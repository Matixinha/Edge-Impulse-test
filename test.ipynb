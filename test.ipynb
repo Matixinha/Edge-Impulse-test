{
 "cells": [
  {
   "cell_type": "markdown",
   "metadata": {},
   "source": [
    "aaa"
   ]
  },
  {
   "cell_type": "code",
   "execution_count": 6,
   "metadata": {},
   "outputs": [],
   "source": [
    "#Suporte a biblioteca local\n",
    "import sys\n",
    "sys.path.append('lib')"
   ]
  },
  {
   "cell_type": "code",
   "execution_count": null,
   "metadata": {},
   "outputs": [],
   "source": [
    "import os\n",
    "from tensorflow.keras.preprocessing.image import ImageDataGenerator\n",
    "from tensorflow.keras.preprocessing import image\n",
    "import shutil"
   ]
  },
  {
   "cell_type": "code",
   "execution_count": null,
   "metadata": {},
   "outputs": [],
   "source": [
    "#ImageDataGenerator - Substituir por keras e tf.data.Dataset\n",
    "def augment_images(input_path, output_path, num_augmented_images):\n",
    "    datagen = ImageDataGenerator(\n",
    "        rotation_range=10,\n",
    "        width_shift_range=0.1,\n",
    "        height_shift_range=0.1,\n",
    "        zoom_range=0.1,\n",
    "        horizontal_flip=True,\n",
    "        vertical_flip=True,\n",
    "        fill_mode='nearest'\n",
    "    )"
   ]
  },
  {
   "cell_type": "code",
   "execution_count": null,
   "metadata": {},
   "outputs": [],
   "source": [
    "#Tratamento de classes\n",
    "classes = [d for d in os.listdir(input_path) if os.path.isdir(os.path.join(input_path, d))]\n",
    "\n",
    "    for class_name in classes:\n",
    "        class_input_path = os.path.join(input_path, class_name)\n",
    "        class_output_path = os.path.join(output_path, class_name)\n",
    "\n",
    "        os.makedirs(class_output_path, exist_ok=True)\n",
    "\n",
    "        image_files = [f for f in os.listdir(class_input_path) if f.endswith(('.jpg', '.jpeg', '.png'))]\n",
    "\n",
    "        for image_file in image_files:\n",
    "            img_path = os.path.join(class_input_path, image_file)\n",
    "            img = image.load_img(img_path, target_size=(32, 32)) \n",
    "\n",
    "            x = image.img_to_array(img)\n",
    "            x = x.reshape((1,) + x.shape)\n",
    "\n",
    "            i = 0\n",
    "            for batch in datagen.flow(x, batch_size=1, save_to_dir=class_output_path, save_prefix='aug', save_format='jpeg'):\n",
    "                i += 1\n",
    "                if i >= num_augmented_images:\n",
    "                    break"
   ]
  },
  {
   "cell_type": "code",
   "execution_count": null,
   "metadata": {},
   "outputs": [],
   "source": [
    "#Tratamento de diretório\n",
    "train_input_path = \"dataset/train\"\n",
    "test_input_path = \"dataset/test\"\n",
    "\n",
    "train_output_path = \"augmented_dataset/train\"\n",
    "test_output_path = \"augmented_dataset/test\"\n",
    "\n",
    "shutil.rmtree(train_output_path, ignore_errors=True)\n",
    "shutil.rmtree(test_output_path, ignore_errors=True)\n",
    "os.makedirs(train_output_path, exist_ok=True)\n",
    "os.makedirs(test_output_path, exist_ok=True)"
   ]
  },
  {
   "cell_type": "code",
   "execution_count": 7,
   "metadata": {},
   "outputs": [],
   "source": [
    "num_augmented_images = 10\n",
    "\n",
    "augment_images(train_input_path, train_output_path, num_augmented_images)\n",
    "\n",
    "augment_images(test_input_path, test_output_path, num_augmented_images)\n"
   ]
  }
 ],
 "metadata": {
  "kernelspec": {
   "display_name": "Python 3",
   "language": "python",
   "name": "python3"
  },
  "language_info": {
   "codemirror_mode": {
    "name": "ipython",
    "version": 3
   },
   "file_extension": ".py",
   "mimetype": "text/x-python",
   "name": "python",
   "nbconvert_exporter": "python",
   "pygments_lexer": "ipython3",
   "version": "3.9.11"
  }
 },
 "nbformat": 4,
 "nbformat_minor": 2
}
