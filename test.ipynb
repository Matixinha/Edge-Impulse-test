{
 "cells": [
  {
   "cell_type": "markdown",
   "metadata": {},
   "source": [
    "aaa"
   ]
  },
  {
   "cell_type": "code",
   "execution_count": 6,
   "metadata": {},
   "outputs": [],
   "source": [
    "import sys\n",
    "sys.path.append('lib')"
   ]
  },
  {
   "cell_type": "code",
   "execution_count": 7,
   "metadata": {},
   "outputs": [],
   "source": [
    "import os\n",
    "from tensorflow.keras.preprocessing.image import ImageDataGenerator\n",
    "from tensorflow.keras.preprocessing import image\n",
    "import shutil\n",
    "\n",
    "def augment_images(input_path, output_path, num_augmented_images):\n",
    "    # Criar um objeto ImageDataGenerator para aumentar as imagens\n",
    "    datagen = ImageDataGenerator(\n",
    "        rotation_range=10,\n",
    "        width_shift_range=0.1,\n",
    "        height_shift_range=0.1,\n",
    "        zoom_range=0.1,\n",
    "        horizontal_flip=True,\n",
    "        vertical_flip=True,\n",
    "        fill_mode='nearest'\n",
    "    )\n",
    "\n",
    "    # Listar todas as classes no diretório de entrada\n",
    "    classes = [d for d in os.listdir(input_path) if os.path.isdir(os.path.join(input_path, d))]\n",
    "\n",
    "    # Iterar sobre cada classe\n",
    "    for class_name in classes:\n",
    "        class_input_path = os.path.join(input_path, class_name)\n",
    "        class_output_path = os.path.join(output_path, class_name)\n",
    "\n",
    "        # Criar diretório de saída para a classe se não existir\n",
    "        os.makedirs(class_output_path, exist_ok=True)\n",
    "\n",
    "        # Listar todas as imagens na classe\n",
    "        image_files = [f for f in os.listdir(class_input_path) if f.endswith(('.jpg', '.jpeg', '.png'))]\n",
    "\n",
    "        # Iterar sobre cada imagem e aplicar o aumento\n",
    "        for image_file in image_files:\n",
    "            img_path = os.path.join(class_input_path, image_file)\n",
    "            img = image.load_img(img_path, target_size=(32, 32))  # Ajuste conforme necessário\n",
    "\n",
    "            # Converter a imagem para um array numpy\n",
    "            x = image.img_to_array(img)\n",
    "            x = x.reshape((1,) + x.shape)\n",
    "\n",
    "            # Criar um generator para a imagem atual\n",
    "            i = 0\n",
    "            for batch in datagen.flow(x, batch_size=1, save_to_dir=class_output_path, save_prefix='aug', save_format='jpeg'):\n",
    "                i += 1\n",
    "                if i >= num_augmented_images:\n",
    "                    break\n",
    "\n",
    "# Caminhos para os diretórios de treino e teste\n",
    "train_input_path = \"dataset/train\"\n",
    "test_input_path = \"dataset/test\"\n",
    "\n",
    "# Caminhos para os diretórios de saída aumentados\n",
    "train_output_path = \"augmented_dataset/train\"\n",
    "test_output_path = \"augmented_dataset/test\"\n",
    "\n",
    "# Criar diretórios de saída se não existirem\n",
    "shutil.rmtree(train_output_path, ignore_errors=True)\n",
    "shutil.rmtree(test_output_path, ignore_errors=True)\n",
    "os.makedirs(train_output_path, exist_ok=True)\n",
    "os.makedirs(test_output_path, exist_ok=True)\n",
    "\n",
    "# Número de imagens aumentadas desejadas por imagem original\n",
    "num_augmented_images = 16\n",
    "\n",
    "# Aplicar aumento de dados para todas as imagens no conjunto de treino\n",
    "augment_images(train_input_path, train_output_path, num_augmented_images)\n",
    "\n",
    "# Aplicar aumento de dados para todas as imagens no conjunto de teste\n",
    "augment_images(test_input_path, test_output_path, num_augmented_images)\n"
   ]
  }
 ],
 "metadata": {
  "kernelspec": {
   "display_name": "Python 3",
   "language": "python",
   "name": "python3"
  },
  "language_info": {
   "codemirror_mode": {
    "name": "ipython",
    "version": 3
   },
   "file_extension": ".py",
   "mimetype": "text/x-python",
   "name": "python",
   "nbconvert_exporter": "python",
   "pygments_lexer": "ipython3",
   "version": "3.9.11"
  }
 },
 "nbformat": 4,
 "nbformat_minor": 2
}
